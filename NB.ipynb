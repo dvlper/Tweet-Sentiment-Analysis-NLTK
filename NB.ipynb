{
 "cells": [
  {
   "cell_type": "markdown",
   "metadata": {},
   "source": [
    "## Importing following libraries/modules\n",
    "    1. NumPy - linear algebra\n",
    "    2. Pandas - data processing, CSV file I/O (e.g. pd.read_csv)\n",
    "    3. NLTK - Text processing and Sentiment Analysis\n",
    "    4. SkLearn - Identifying the learning procedure - through ROC \n",
    "    5. Matplotlib - Visualization\n",
    "    \n",
    "#### Objective:\n",
    " Analyse the text of the tweets and develop sentiment analysis on tweets. The sentiment score is divided into **positive**, **negative** and **neutral** tone.\n",
    " \n",
    "The task is completed by using two different techniques:\n",
    "* **Naïve Bayes Classification**\n",
    "* **Maximum Entropy**\n",
    "\n",
    "Data is divided into 2 sets i.e. **TRAINING** and **TESTING** with **5000** and **10000** records, respectively. For training the model, we're spliting the **TRAINING** data into **TRAIN** and **VALIDATION** sets - with a split percentage of **90/10**."
   ]
  },
  {
   "cell_type": "code",
   "execution_count": 1,
   "metadata": {
    "collapsed": true
   },
   "outputs": [],
   "source": [
    "import numpy as np  \n",
    "import pandas as pd  \n",
    "from sklearn.model_selection import train_test_split\n",
    "\n",
    "import nltk\n",
    "from nltk.corpus import stopwords\n",
    "from nltk.classify import SklearnClassifier\n",
    "\n",
    "from xml.sax.saxutils import escape, unescape\n",
    "from sklearn.metrics import roc_curve, auc\n",
    "import operator\n",
    "import pdb\n",
    "from difflib import SequenceMatcher\n",
    "\n",
    "from Levenshtein import distance\n",
    "from time import time\n",
    "\n",
    "from nltk.stem.lancaster import LancasterStemmer\n",
    "from nltk.stem import WordNetLemmatizer\n",
    "\n",
    "import matplotlib.pyplot as plt\n",
    "%matplotlib inline"
   ]
  },
  {
   "cell_type": "markdown",
   "metadata": {},
   "source": [
    "### Downloading NLTK Stopwords\n",
    "\n",
    "We're using STOPWORDS provided by NLTK. STOPWORDs are removed in data cleaning process."
   ]
  },
  {
   "cell_type": "code",
   "execution_count": 2,
   "metadata": {},
   "outputs": [
    {
     "name": "stdout",
     "output_type": "stream",
     "text": [
      "[nltk_data] Downloading package stopwords to /home/dvlper/nltk_data...\n",
      "[nltk_data]   Package stopwords is already up-to-date!\n"
     ]
    }
   ],
   "source": [
    "nltk.download('stopwords')\n",
    "wordnet_lemmatizer = WordNetLemmatizer()"
   ]
  },
  {
   "cell_type": "markdown",
   "metadata": {},
   "source": [
    "### Data Loading\n",
    "Reading the (.xlsx) file cotnaing **5000** data records. This data later converted into a **Pandas DataFrame**. Using a DataFrame allows various"
   ]
  },
  {
   "cell_type": "code",
   "execution_count": 3,
   "metadata": {
    "collapsed": true
   },
   "outputs": [],
   "source": [
    "# reading .xlsx file in a DataFrame\n",
    "xl = pd.ExcelFile('Training Data.xlsx')\n",
    "xl.sheet_names\n",
    "\n",
    "# Excel file contains data in form of Sheets. Our file contains data in 'Sheet1'\n",
    "data = xl.parse(\"Sheet1\")\n",
    "\n",
    "# removing unnecessary columns from the DataFrame\n",
    "data.drop([u'ideas_id', u'user_id', u'permno'], axis=1, inplace=True)"
   ]
  },
  {
   "cell_type": "markdown",
   "metadata": {},
   "source": [
    "### Train-validation Split\n",
    "\n",
    "**5000** training examples are splited into train set with **4500** records and validation set containing **500** records. NOTE: while splitting the data, shuffling is set to True. Hence, the data in the trianing would contain samples from all the classes."
   ]
  },
  {
   "cell_type": "code",
   "execution_count": 4,
   "metadata": {
    "collapsed": true
   },
   "outputs": [],
   "source": [
    "# Splitting the dataset into train and test set\n",
    "train, validation = train_test_split(data, test_size = 0.1, random_state=22)"
   ]
  },
  {
   "cell_type": "markdown",
   "metadata": {},
   "source": [
    "### Cleaning Data\n",
    "Since, we're processing Tweets. Therefore the data is not already clean. So, we're setting up some cleaning procedures that are written only for Tweets in this type of dataset. Steps followed for cleaning:\n",
    "\n",
    "    1. HTML Escape characters removed. While downloading the Tweets, some special characters would have been corupted and changed from ASCII to UNICODE. therefore, to correct this issue, we're unescaping tsuch charaters found in the Tweets.  \n",
    "    \n",
    "    2. Removing URLs from the Tweets. URLs do not convey any meaning in the Tweet. Instead, they affect the model negatively, by causing it to focus on ambigious text. Terefore, we removed all the URLs\n",
    "    \n",
    "    3. Trashed out words beggining with @, as such words are used for addressing an entity.\n",
    "    \n",
    "    4. Removed Dollar-Signs. In this particular these are used to indicate a stock market symbols (nicks). We avoid such words in text, as they do not convey any meaning to the overall sentiment.\n",
    "    \n",
    "    5. Furthermore, also removed HASHTAGS.\n",
    "\n",
    "#### Once the text is clean and contains only English words. We now head to a text processing technique, to remove STOPWORDS. Using NLTK stopwords corpus for the purpose."
   ]
  },
  {
   "cell_type": "code",
   "execution_count": 5,
   "metadata": {
    "collapsed": true
   },
   "outputs": [],
   "source": [
    "# Tweets contain HTML escape sequences and to be able to use the data for training, we need to remove\n",
    "# these special characters\n",
    "html_escape_table = {\n",
    "     \"&\": \"&amp;\",\n",
    "     '\"': \"&quot;\",\n",
    "     \"'\": \"&apos;\",\n",
    "     \">\": \"&gt;\",\n",
    "     \"<\": \"&lt;\",\n",
    "     }\n",
    "# Reversing html_escape_table to make html_unescape_table\n",
    "html_unescape_table = {v:k for k, v in html_escape_table.items()}\n",
    "\n",
    "# function for removing the HTML escape characters from Tweets based on 'html_unescape_table'\n",
    "def html_unescape(text):\n",
    "    return unescape(text, html_unescape_table)\n",
    "\n",
    "# Removing words that start with a contain a certain keyword.\n",
    "def clean_row(row):\n",
    "    words_filtered = [e.lower().replace('\"', '').replace('(', '').replace(')', '') for e in html_unescape(row).split() if len(e) >= 3]\n",
    "    words_cleaned = [word for word in words_filtered\n",
    "        if 'http' not in word\n",
    "        and not word.startswith('@')\n",
    "        and not word.startswith('$') \n",
    "        and not word.startswith('#')]\n",
    "    \n",
    "    # Removing the stopwords and generating tokens from the Tweets\n",
    "    words_without_stopwords = [wordnet_lemmatizer.lemmatize(word) for word in words_cleaned if not word in stopwords_set]\n",
    "    \n",
    "    return words_without_stopwords\n",
    "\n",
    "# Function for checking duplciate Tweets\n",
    "def check_duplicates(a, b):\n",
    "    return SequenceMatcher(None, a, b).ratio()"
   ]
  },
  {
   "cell_type": "code",
   "execution_count": 6,
   "metadata": {
    "collapsed": true
   },
   "outputs": [],
   "source": [
    "tweets = []\n",
    "stopwords_set = set(stopwords.words(\"english\"))\n",
    "\n",
    "for index, row in train.iterrows():\n",
    "    words_without_stopwords = clean_row(row.text)\n",
    "    \n",
    "    # Processed Tweets will be stored in 'tweets' structure\n",
    "    tweets.append((words_without_stopwords, row.sentiment))"
   ]
  },
  {
   "cell_type": "markdown",
   "metadata": {},
   "source": [
    "### Tokenize and POS Tagging\n",
    "**Tokenization** happens along with cleaning data. Just sperating it from the collection here.\n",
    "\n",
    "Used **NLTK POS tagger** for generating parts-of-speech in the text."
   ]
  },
  {
   "cell_type": "code",
   "execution_count": 7,
   "metadata": {
    "collapsed": true
   },
   "outputs": [],
   "source": [
    "tokens = list(zip(*tweets))[0]\n",
    "labels = list(zip(*tweets))[1]\n",
    "pos_tags = map(nltk.pos_tag, tokens)"
   ]
  },
  {
   "cell_type": "markdown",
   "metadata": {},
   "source": [
    "### Removing Duplicate TWEETS"
   ]
  },
  {
   "cell_type": "code",
   "execution_count": 8,
   "metadata": {},
   "outputs": [
    {
     "name": "stdout",
     "output_type": "stream",
     "text": [
      "took 95.2815139294 seconds\n"
     ]
    }
   ],
   "source": [
    "def get_distance_matrix(str_list):\n",
    "    dist_matrix = np.zeros(shape=(len(str_list), len(str_list)))\n",
    "    t0 = time()\n",
    "    for i in range(0, len(str_list)):\n",
    "        for j in range(i+1, len(str_list)):\n",
    "            dist_matrix[i][j] = distance(str_list[i], str_list[j]) \n",
    "    for i in range(0, len(str_list)):\n",
    "        for j in range(0, len(str_list)):\n",
    "            if i == j:\n",
    "                dist_matrix[i][j] = 0 \n",
    "            elif i > j:\n",
    "                dist_matrix[i][j] = dist_matrix[j][i]\n",
    "    t1 = time()\n",
    "    print(\"took\", (t1-t0), \"seconds\")\n",
    "    return dist_matrix\n",
    "\n",
    "dist_mat = get_distance_matrix(filter(None, map(lambda X: \" \".join(X), np.array(tokens))))"
   ]
  },
  {
   "cell_type": "code",
   "execution_count": 9,
   "metadata": {
    "collapsed": true
   },
   "outputs": [],
   "source": [
    "def remove_duplicates(sims):\n",
    "    to_remove = []\n",
    "    for i in range(sims.shape[0]):\n",
    "        for j in range(sims.shape[1]):\n",
    "            if sims[i][j] == 112:\n",
    "                to_remove.append(j)\n",
    "    return to_remove\n",
    "duplicates = set(remove_duplicates(dist_mat))"
   ]
  },
  {
   "cell_type": "code",
   "execution_count": 10,
   "metadata": {
    "collapsed": true,
    "scrolled": true
   },
   "outputs": [],
   "source": [
    "tokens = np.delete(tokens, list(duplicates)).tolist()\n",
    "labels = np.delete(labels, list(duplicates)).tolist()"
   ]
  },
  {
   "cell_type": "markdown",
   "metadata": {},
   "source": [
    "### Data Pre-Processing\n",
    "Generating word dictionary from the Tweet corpus. These words make up a feature space where the text will be mapped and the sentiment will be identified by the Naive Bayes algorithm."
   ]
  },
  {
   "cell_type": "code",
   "execution_count": 12,
   "metadata": {
    "collapsed": true
   },
   "outputs": [],
   "source": [
    "# Extracting words from Tweets based on feature map\n",
    "def get_words_in_tweets(tweets):\n",
    "    all_words = []\n",
    "    for (words, sentiment) in tweets:\n",
    "        all_words.extend(words)\n",
    "    return all_words\n",
    "\n",
    "# Extracting word features\n",
    "def get_word_features(wordlist):\n",
    "    wordlist = nltk.FreqDist(wordlist)\n",
    "    features = wordlist.keys()\n",
    "    return features\n",
    "w_features = get_word_features(get_words_in_tweets(tweets))\n",
    "\n",
    "# Generating feature map. It would be of type <dict>. Would contain words collected\n",
    "# from the Tweet corpus\n",
    "def extract_features(document):\n",
    "    document_words = sedatat(document)\n",
    "    features = {}\n",
    "    for word in w_features:\n",
    "        features['containts(%s)' % word] = (word in document_words)\n",
    "    return features\n",
    "\n",
    "# Get predictions on the Validation dataset \n",
    "def predicitions(validation):\n",
    "    results = []\n",
    "    for obj in validation.values:\n",
    "        tokens = clean_row(obj[0])\n",
    "        results.append((obj[1], classifier.classify(extract_features(tokens))))\n",
    "    return results"
   ]
  },
  {
   "cell_type": "markdown",
   "metadata": {},
   "source": [
    "#### Frequency Count \n",
    "As a part of Pre-Processign we're visualizing the Freq Count of the most occurring words in the Tweet corpus."
   ]
  },
  {
   "cell_type": "code",
   "execution_count": 13,
   "metadata": {},
   "outputs": [
    {
     "data": {
      "text/plain": [
       "<matplotlib.axes._subplots.AxesSubplot at 0x7fc5ea527590>"
      ]
     },
     "execution_count": 13,
     "metadata": {},
     "output_type": "execute_result"
    },
    {
     "data": {
      "image/png": "[encoded data removed]",
      "text/plain": [
       "<matplotlib.figure.Figure at 0x7fc5f12dc950>"
      ]
     },
     "metadata": {},
     "output_type": "display_data"
    }
   ],
   "source": [
    "def get_word_frequencies(wordlist):\n",
    "    wordlist = nltk.FreqDist(wordlist)\n",
    "    return wordlist\n",
    "\n",
    "freq_counts = get_word_frequencies(get_words_in_tweets(tweets))\n",
    "WordFreqs = pd.DataFrame(freq_counts.items())\n",
    "freq_counts = dict(sorted(freq_counts.iteritems(), key=operator.itemgetter(1), reverse=True)[:100])\n",
    "freq_counts = pd.Series(freq_counts, name='DateValue')\n",
    "freq_counts.plot(kind='bar', figsize=(20,20))"
   ]
  },
  {
   "cell_type": "markdown",
   "metadata": {},
   "source": [
    "#### Writing Word Frequency counts to a CSV"
   ]
  },
  {
   "cell_type": "code",
   "execution_count": 14,
   "metadata": {
    "collapsed": true
   },
   "outputs": [],
   "source": [
    "WordFreqs.to_csv('WordFreq.csv', sep=',', encoding='utf-8')"
   ]
  },
  {
   "cell_type": "markdown",
   "metadata": {},
   "source": [
    "#### Number of Tokens Identified "
   ]
  },
  {
   "cell_type": "code",
   "execution_count": 15,
   "metadata": {},
   "outputs": [
    {
     "name": "stdout",
     "output_type": "stream",
     "text": [
      "TOTAL NO. OF TOKEN IDENTIFIED: 8396\n"
     ]
    }
   ],
   "source": [
    "print(\"TOTAL NO. OF TOKEN IDENTIFIED: {}\".format(len(w_features)))"
   ]
  },
  {
   "cell_type": "markdown",
   "metadata": {},
   "source": [
    "### Naïve-Bayes\n",
    "Implmenting **Naïve-Bayes** algorithm and training it on Tweets available in the training set i.e. **4500** Tweets. We pass the algorithm a **feature map** for various Tweets. This feature map basically tells, which word is present in a Tweet. Reason for passing input in this form - **Naïve-Bayes expects the caller to specify the feature map. If we don't do that, it would return expection.**\n",
    "\n",
    "for this process we're using **Multinomial Naïve-Bayes**. But only allows binary features. Further details can be found at http://www.nltk.org/_modules/nltk/classify/naivebayes.html\n",
    "\n",
    "#### Training the classifier"
   ]
  },
  {
   "cell_type": "code",
   "execution_count": 16,
   "metadata": {
    "collapsed": true
   },
   "outputs": [],
   "source": [
    "# Naïve Bayes takes training data in the form of feature vectors. Each feature vector has dimension \n",
    "# i.e. (feature_map_size x 1). Against each feature is a boolean values specifying if a certain words \n",
    "# from feature map is present in the current Tweet\n",
    "training_set = nltk.classify.apply_features(extract_features, tweets)\n",
    "\n",
    "# Training the Naïve Bayes classifier. Using Multinomial Naïve Bayes technique\n",
    "classifier = nltk.NaiveBayesClassifier.train(training_set)"
   ]
  },
  {
   "cell_type": "markdown",
   "metadata": {},
   "source": [
    "#### Useful Features identified by Naive Bayes "
   ]
  },
  {
   "cell_type": "code",
   "execution_count": 47,
   "metadata": {},
   "outputs": [
    {
     "name": "stdout",
     "output_type": "stream",
     "text": [
      "TOP 10 MOST USEFUL FEATURES IN THIS DATASET\n",
      "\n",
      "bearish\n",
      "cup\n",
      "short\n",
      "breakout\n",
      "downside\n",
      "wkly\n",
      "triangle\n",
      "setups:\n",
      "shorting\n",
      "short.\n"
     ]
    }
   ],
   "source": [
    "print(\"TOP 10 MOST USEFUL FEATURES IN THIS DATASET\\n\")\n",
    "museful = map(lambda X: X[0].split('(')[1].split(')')[0], classifier.most_informative_features(10))\n",
    "for m in museful:\n",
    "    print(m)"
   ]
  },
  {
   "cell_type": "markdown",
   "metadata": {},
   "source": [
    "**Testing the performance on validation data.** \n",
    "While validating the performance of the algorithm, we have also provided an option to set the sample-size to validate on. Reason: Model is trained on a machine with somewhat slow processor. Using all the calidation set would take sometime to show results. Switching to a better system might increase the executiong time.  "
   ]
  },
  {
   "cell_type": "code",
   "execution_count": 91,
   "metadata": {
    "collapsed": true
   },
   "outputs": [],
   "source": [
    "sample_size = 100 # total records in validation set = 500\n",
    "results = predicitions(validation[:sample_size])\n",
    "\n",
    "y_actual_V = list(zip(*results))[0]\n",
    "y_pred_V = list(zip(*results))[1]\n",
    "y_actual_V = [1 if x == \"Bullish\" else 0 for x in y_actual_V]\n",
    "y_pred_V = [1 if x == \"Bullish\" else 0 for x in y_pred_V]"
   ]
  },
  {
   "cell_type": "markdown",
   "metadata": {},
   "source": [
    "#### Calculating Accuracy of the trained model. The model is able to classify the Tweet with an accuracy of 73%. The reason for a low accuracy can be any of the following (perhaps all):\n",
    "    1. Limited training data.\n",
    "    2. Using a Naive approach. Switching to a rather complex algorthim, such as: an RNN should certainly boost     up the correctness of the model."
   ]
  },
  {
   "cell_type": "code",
   "execution_count": 92,
   "metadata": {},
   "outputs": [
    {
     "name": "stdout",
     "output_type": "stream",
     "text": [
      "Accuracy (ON VALIDATION DATA): 79.0\n"
     ]
    }
   ],
   "source": [
    "acc = (sum([x==y for (x,y) in zip(y_actual_V, y_pred_V)]) / float(validation[:sample_size].shape[0])) * 100\n",
    "print(\"Accuracy (ON VALIDATION DATA): {}\".format(acc))"
   ]
  },
  {
   "cell_type": "markdown",
   "metadata": {},
   "source": [
    "### Predicting on TEST data"
   ]
  },
  {
   "cell_type": "code",
   "execution_count": 19,
   "metadata": {
    "collapsed": true
   },
   "outputs": [],
   "source": [
    "# reading .xlsx file in a DataFrame\n",
    "xl = pd.ExcelFile('Testing Data.xlt')\n",
    "xl.sheet_names\n",
    "\n",
    "# Excel file contains data in form of Sheets. Our file contains data in 'Sheet1'\n",
    "test = xl.parse(\"user\")\n",
    "\n",
    "# removing unnecessary columns from the DataFrame\n",
    "test.drop([u'tweet_id', u'user_id', u'permno'], axis=1, inplace=True)"
   ]
  },
  {
   "cell_type": "code",
   "execution_count": 20,
   "metadata": {
    "collapsed": true
   },
   "outputs": [],
   "source": [
    "def test_predicitions(test):\n",
    "    results = []\n",
    "    for obj in test.values:\n",
    "        tokens = clean_row(obj[0])\n",
    "        results.append((tokens, classifier.classify(extract_features(tokens))))\n",
    "    return results"
   ]
  },
  {
   "cell_type": "code",
   "execution_count": 25,
   "metadata": {
    "collapsed": true
   },
   "outputs": [],
   "source": [
    "starting_point = 1956\n",
    "sample_size = 100 # total records in validation set = 10000\n",
    "results = test_predicitions(test[starting_point:starting_point+sample_size])"
   ]
  },
  {
   "cell_type": "code",
   "execution_count": 33,
   "metadata": {
    "collapsed": true
   },
   "outputs": [],
   "source": [
    "y_pred = list(zip(*results))[1]\n",
    "y_pred = ['Positive' if x == \"Bullish\" else 'Negative' for x in y_pred]"
   ]
  },
  {
   "cell_type": "code",
   "execution_count": 86,
   "metadata": {},
   "outputs": [
    {
     "name": "stdout",
     "output_type": "stream",
     "text": [
      "======= TEST DATA EVALUATION =======\n",
      "\n",
      "% of Tweets classified POSITIVE: 57.0\n",
      "% of Tweets classified NEGATIVE: 43.0\n"
     ]
    }
   ],
   "source": [
    "print(\"======= TEST DATA EVALUATION =======\\n\")\n",
    "print(\"% of Tweets classified POSITIVE: {}\".format((y_pred.count('Positive') / float(sample_size))*100.0))\n",
    "print(\"% of Tweets classified NEGATIVE: {}\".format((y_pred.count('Negative') / float(sample_size))*100.0))"
   ]
  },
  {
   "cell_type": "markdown",
   "metadata": {},
   "source": [
    "### LM Corpus"
   ]
  },
  {
   "cell_type": "code",
   "execution_count": 70,
   "metadata": {
    "collapsed": true
   },
   "outputs": [],
   "source": [
    "with open('LM_Positive.txt') as f:\n",
    "    LM_Positive = f.read().splitlines()\n",
    "    \n",
    "with open('LM_Negative.txt') as f:\n",
    "    LM_Negative = f.read().splitlines()\n",
    "    \n",
    "with open('LM_Uncertain.txt') as f:\n",
    "    LM_Neutral = f.read().splitlines()\n",
    "    \n",
    "LM_Positive = map(str.lower, LM_Positive)\n",
    "LM_Negative = map(str.lower, LM_Negative)\n",
    "LM_Neutral = map(str.lower, LM_Neutral)"
   ]
  },
  {
   "cell_type": "markdown",
   "metadata": {},
   "source": [
    "#### Sentiment Analysis"
   ]
  },
  {
   "cell_type": "code",
   "execution_count": 74,
   "metadata": {
    "collapsed": true
   },
   "outputs": [],
   "source": [
    "def classify(tweet):\n",
    "    sent_p = set(tweet).intersection(LM_Positive)\n",
    "    sent_n = set(tweet).intersection(LM_Negative)\n",
    "    sent_u = set(tweet).intersection(LM_Neutral)\n",
    "    \n",
    "    sents = ('Neutral', 'Positive', 'Negative')\n",
    "    result = np.argmax(np.array([sent_n, sent_u, sent_p]))\n",
    "    return sents[result]\n",
    "y_cal_LM = map(classify, tokens)"
   ]
  },
  {
   "cell_type": "code",
   "execution_count": 89,
   "metadata": {},
   "outputs": [
    {
     "name": "stdout",
     "output_type": "stream",
     "text": [
      "======= LM CORPUS EVALUATION =======\n",
      "\n",
      "% of Tweets classified POSITIVE: 6.49819494585\n",
      "% of Tweets classified NEGATIVE: 8.25167612171\n",
      "% of Tweets classified NEUTRAL: 85.2501289324\n"
     ]
    }
   ],
   "source": [
    "print(\"======= LM CORPUS EVALUATION =======\\n\")\n",
    "print(\"% of Tweets classified POSITIVE: {}\".format((y_cal_LM.count('Positive') / float(len(tokens)))*100.0))\n",
    "print(\"% of Tweets classified NEGATIVE: {}\".format((y_cal_LM.count('Negative') / float(len(tokens)))*100.0))\n",
    "print(\"% of Tweets classified NEUTRAL: {}\".format((y_cal_LM.count('Neutral') / float(len(tokens)))*100.0))"
   ]
  },
  {
   "cell_type": "markdown",
   "metadata": {},
   "source": [
    "### Plotting the ROC Curve\n",
    "\n",
    "ROC curve illustrates varifies the discrimination threshold of Multinomial Naive Bayes (binary classifier). It exhibits a positive relation to cost analysis."
   ]
  },
  {
   "cell_type": "code",
   "execution_count": 93,
   "metadata": {
    "scrolled": true
   },
   "outputs": [
    {
     "data": {
      "image/png": "[encoded data removed]",
      "text/plain": [
       "<matplotlib.figure.Figure at 0x7fc5dddba310>"
      ]
     },
     "metadata": {},
     "output_type": "display_data"
    }
   ],
   "source": [
    "# Find and plot AUC\n",
    "false_positive_rate, true_positive_rate, thresholds = roc_curve(y_actual_V, y_pred_V, pos_label=0)\n",
    "roc_auc = auc(false_positive_rate, true_positive_rate)\n",
    "\n",
    "# Get different color each graph line\n",
    "color = [\"mediumturquoise\", \"orange\"]\n",
    "\n",
    "# Plotting\n",
    "plt.title('ROC')\n",
    "plt.plot(false_positive_rate, true_positive_rate, c=color[0], label=('Naive Bayes'))\n",
    "plt.legend(loc='lower right', prop={'size':8})\n",
    "plt.plot([0,1],[0,1], color='lightgrey', linestyle='--')\n",
    "plt.xlim([-0.05,1.0])\n",
    "plt.ylim([0.0,1.05])\n",
    "plt.ylabel('True Positive Rate')\n",
    "plt.xlabel('False Positive Rate')\n",
    "plt.show()"
   ]
  },
  {
   "cell_type": "code",
   "execution_count": null,
   "metadata": {
    "collapsed": true
   },
   "outputs": [],
   "source": []
  }
 ],
 "metadata": {
  "kernelspec": {
   "display_name": "Python 2",
   "language": "python",
   "name": "python2"
  },
  "language_info": {
   "codemirror_mode": {
    "name": "ipython",
    "version": 2
   },
   "file_extension": ".py",
   "mimetype": "text/x-python",
   "name": "python",
   "nbconvert_exporter": "python",
   "pygments_lexer": "ipython2",
   "version": "2.7.11"
  }
 },
 "nbformat": 4,
 "nbformat_minor": 2
}
